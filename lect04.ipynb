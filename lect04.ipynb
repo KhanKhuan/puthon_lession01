{
  "nbformat": 4,
  "nbformat_minor": 0,
  "metadata": {
    "colab": {
      "provenance": [],
      "authorship_tag": "ABX9TyN13R7G1+NCtJf7cHsTVlDM",
      "include_colab_link": true
    },
    "kernelspec": {
      "name": "python3",
      "display_name": "Python 3"
    },
    "language_info": {
      "name": "python"
    }
  },
  "cells": [
    {
      "cell_type": "markdown",
      "metadata": {
        "id": "view-in-github",
        "colab_type": "text"
      },
      "source": [
        "<a href=\"https://colab.research.google.com/github/KhanKhuan/puthon_lession01/blob/main/lect04.ipynb\" target=\"_parent\"><img src=\"https://colab.research.google.com/assets/colab-badge.svg\" alt=\"Open In Colab\"/></a>"
      ]
    },
    {
      "cell_type": "code",
      "execution_count": 24,
      "metadata": {
        "colab": {
          "base_uri": "https://localhost:8080/"
        },
        "id": "VhQle36QTQbM",
        "outputId": "44e62ee9-2afc-407a-8e6c-346d5b624c4b"
      },
      "outputs": [
        {
          "output_type": "stream",
          "name": "stdout",
          "text": [
            "<filter object at 0x7dc103cf2710>\n",
            "[(2, 4), (8, 64), (38, 1444)]\n"
          ]
        }
      ],
      "source": [
        "# Задача для самостоятельного решения\n",
        "# 1. В списке хранятся числа. Нужно выбрать только\n",
        "# чётные числа и составить список пар\n",
        "# (число; квадрат числа).\n",
        "# Пример: 1 2 3 5 8 15 23 38\n",
        "# Получить: [(2, 4), (8, 64), (38, 1444)]\n",
        "\n",
        "# list1 = [1, 2, 3, 5, 8, 15, 23, 38,]\n",
        "# list2 = []\n",
        "# for i in list1:\n",
        "#   if i % 2 == 0:\n",
        "#     print(i, i*i, end=' ')\n",
        "#     list2.append((i, i*i))\n",
        "\n",
        "\n",
        "# print(list2)\n",
        "\n",
        "\n",
        "# lamda-function\n",
        "\n",
        "# def select(f, col):\n",
        "#   return [f(x) for x in col]\n",
        "\n",
        "# def where(f, col):\n",
        "#   return [x for i in col if f(x)]\n",
        "\n",
        "# list1 = [1, 2, 3, 5, 8, 15, 23, 38,]\n",
        "# res = select(int, list1)\n",
        "# print(res)\n",
        "# res = where(lambda x: x % 2 == 0, res)\n",
        "# print(res)\n",
        "# res = list(select(lambda x: (x, x ** 2), res))\n",
        "\n",
        "\n",
        "# data = [1, 2, 3, 5, 8, 15, 23, 38]\n",
        "# res = map(int, data)\n",
        "# res = filter(lambda x: x % 2 == 0, res)\n",
        "# print(res) # [2, 8, 38]\n",
        "# res = list(map(lambda x: (x, x ** 2), res))\n",
        "# print(res)\n",
        "\n",
        "\n",
        "\n",
        "\n",
        "# Функция map\n",
        "# list_1 = [x for x in range (1,20)]\n",
        "# list_1 = list(map(lambda x: x + 10, list_1 ))\n",
        "# print(list_1)\n",
        "\n",
        "# Задача: C клавиатуры вводится некий набор чисел, в качестве\n",
        "# разделителя используется пробел. Этот набор чисел будет считан\n",
        "# в качестве строки. Как превратить list строк в list чисел?\n",
        "\n",
        "# data = '1 2 3 5 8 15 23 38'\n",
        "# print(data) # ['1', '2', '3', '5', '8', '15', '23', '38']\n",
        "# # 2. Теперь вернемся к задаче. С помощью функции map():\n",
        "# data = list(map(int,data.split()))\n",
        "# print(data)"
      ]
    }
  ]
}