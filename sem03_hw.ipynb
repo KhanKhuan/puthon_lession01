{
  "nbformat": 4,
  "nbformat_minor": 0,
  "metadata": {
    "colab": {
      "provenance": [],
      "authorship_tag": "ABX9TyNm6JwbSyznABuFCSTvYr4o",
      "include_colab_link": true
    },
    "kernelspec": {
      "name": "python3",
      "display_name": "Python 3"
    },
    "language_info": {
      "name": "python"
    }
  },
  "cells": [
    {
      "cell_type": "markdown",
      "metadata": {
        "id": "view-in-github",
        "colab_type": "text"
      },
      "source": [
        "<a href=\"https://colab.research.google.com/github/KhanKhuan/puthon_lession01/blob/main/sem03_hw.ipynb\" target=\"_parent\"><img src=\"https://colab.research.google.com/assets/colab-badge.svg\" alt=\"Open In Colab\"/></a>"
      ]
    },
    {
      "cell_type": "code",
      "execution_count": 25,
      "metadata": {
        "colab": {
          "base_uri": "https://localhost:8080/"
        },
        "id": "08LKa28IyWum",
        "outputId": "93728dd9-c1d6-4af7-d46c-34a85932b457"
      },
      "outputs": [
        {
          "output_type": "stream",
          "name": "stdout",
          "text": [
            "введите слово на англ иди русском языке rjn\n",
            "['R', 'J', 'N']\n",
            "в слове RJN буквы на 10 балла(ов)\n"
          ]
        }
      ],
      "source": [
        "# Задача 16: Требуется вычислить, сколько раз встречается некоторое\n",
        "# число X в массиве A[1..N]. Пользователь в первой строке вводит\n",
        "# натуральное число N – количество элементов в массиве. В последующих\n",
        "# строках записаны N целых чисел Ai\n",
        "# . Последняя строка содержит число X\n",
        "# 5\n",
        "# 1 2 3 4 5\n",
        "# 3\n",
        "# -> 1\n",
        "# import random\n",
        "# n = int(input())\n",
        "# list_1 = [random.randint(1, 5) for i in range(n) ]\n",
        "# print(list_1)\n",
        "# count = 0\n",
        "# k = int(input())\n",
        "\n",
        "# for i in list_1:\n",
        "#   if i == k:\n",
        "#     count+=1\n",
        "\n",
        "# print(f'число {k} встречается {count} раз')\n",
        "\n",
        "# print(f'число {k} встречается {list_1.count(k)} раз')\n",
        "\n",
        "\n",
        "\n",
        "\n",
        "# Задача 18: Требуется найти в массиве A[1..N] самый близкий по\n",
        "# величине элемент к заданному числу X. Пользователь в первой строке\n",
        "# вводит натуральное число N – количество элементов в массиве. В\n",
        "# последующих строках записаны N целых чисел Ai\n",
        "# . Последняя строка\n",
        "# содержит число X\n",
        "# import random\n",
        "# n = int(input('введите длину списка '))\n",
        "# list_1 = [random.randint(1,5) for i in range(n)]\n",
        "\n",
        "# print(f'список: {list_1}')\n",
        "\n",
        "# x = int(input('введите число к которому поищем ближайшее из списка '))\n",
        "\n",
        "# y = abs(x-list_1[0])\n",
        "# z = list_1[0]\n",
        "# for i in list_1:\n",
        "#   if abs(x-list_1[i]) < y:\n",
        "#     y = abs(x-list_1[i])\n",
        "#     z = list_1[i]\n",
        "# print(f'к числу {x} ближе всего из списка число {z}')\n",
        "\n",
        "\n",
        "\n",
        "# Задача 20: В настольной игре Скрабл (Scrabble) каждая буква имеет определенную\n",
        "# ценность. В случае с английским алфавитом очки распределяются так:\n",
        "# ● A, E, I, O, U, L, N, S, T, R – 1 очко;\n",
        "# ● D, G – 2 очка;\n",
        "# ● B, C, M, P – 3 очка;\n",
        "# ● F, H, V, W, Y – 4 очка;\n",
        "# ● K – 5 очков;\n",
        "# ● J, X – 8 очков;\n",
        "# ● Q, Z – 10 очков.\n",
        "# А русские буквы оцениваются так:\n",
        "# ● А, В, Е, И, Н, О, Р, С, Т – 1 очко;\n",
        "# ● Д, К, Л, М, П, У – 2 очка;\n",
        "# ● Б, Г, Ё, Ь, Я – 3 очка;\n",
        "# ● Й, Ы – 4 очка;\n",
        "# ● Ж, З, Х, Ц, Ч – 5 очков;\n",
        "# ● Ш, Э, Ю – 8 очков;\n",
        "# ● Ф, Щ, Ъ – 10 очков.\n",
        "# Напишите программу, которая вычисляет стоимость введенного пользователем слова.\n",
        "# Будем считать, что на вход подается только одно слово, которое содержит либо только\n",
        "# английские, либо только русские буквы.\n",
        "\n",
        "# x = input('введите слово на англ иди русском языке ')\n",
        "# x = x.upper()\n",
        "# count = 0\n",
        "\n",
        "# list_1 = []\n",
        "# price_1 = ['A', 'E', 'I', 'O', 'U', 'L', 'N', 'S', 'T', 'R', 'А', 'В', 'Е', 'И', 'Н', 'О', 'Р', 'С', 'Т']\n",
        "# price_2 = ['D', 'G', 'Д', 'К', 'Л', 'М', 'П', 'У']\n",
        "# price_3 = ['B', 'C', 'M', 'P', 'Б', 'Г', 'Ё', 'Ь', 'Я']\n",
        "# price_4 = ['F', 'H', 'V', 'W', 'Y', 'Й', 'Ы']\n",
        "# price_5 = ['K', 'Ж', 'З', 'Х', 'Ц', 'Ч']\n",
        "# price_8 = ['J', 'X', 'Ш', 'Э', 'Ю']\n",
        "# price_10 = ['Q', 'Z', 'Ф', 'Щ', 'Ъ']\n",
        "\n",
        "# for i in x:\n",
        "#   list_1.append(i)\n",
        "\n",
        "# print(list_1)\n",
        "\n",
        "# for j in list_1:\n",
        "#   if j in price_1:\n",
        "#     count+=1\n",
        "#   elif j in price_2:\n",
        "#     count+=2\n",
        "#   elif j in price_3:\n",
        "#     count+=3\n",
        "#   elif j in price_4:\n",
        "#     count+=4\n",
        "#   elif j in price_5:\n",
        "#     count+=5\n",
        "#   elif j in price_8:\n",
        "#     count+=8\n",
        "#   elif j in price_10:\n",
        "#     count+=10\n",
        "# print(f'в слове {x} буквы на {count} балла(ов)')\n",
        "\n"
      ]
    }
  ]
}