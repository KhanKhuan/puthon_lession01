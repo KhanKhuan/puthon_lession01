{
  "nbformat": 4,
  "nbformat_minor": 0,
  "metadata": {
    "colab": {
      "provenance": [],
      "authorship_tag": "ABX9TyPtVfJcT+hT0fhayKrTj8fE",
      "include_colab_link": true
    },
    "kernelspec": {
      "name": "python3",
      "display_name": "Python 3"
    },
    "language_info": {
      "name": "python"
    }
  },
  "cells": [
    {
      "cell_type": "markdown",
      "metadata": {
        "id": "view-in-github",
        "colab_type": "text"
      },
      "source": [
        "<a href=\"https://colab.research.google.com/github/KhanKhuan/puthon_lession01/blob/main/sem04.ipynb\" target=\"_parent\"><img src=\"https://colab.research.google.com/assets/colab-badge.svg\" alt=\"Open In Colab\"/></a>"
      ]
    },
    {
      "cell_type": "code",
      "execution_count": 4,
      "metadata": {
        "colab": {
          "base_uri": "https://localhost:8080/"
        },
        "id": "jWGwZbPProIJ",
        "outputId": "ddd1d3ca-783d-460e-cf5c-fe81e7bf1147"
      },
      "outputs": [
        {
          "output_type": "stream",
          "name": "stdout",
          "text": [
            "1\n",
            "2\n",
            "0\n",
            "2\n"
          ]
        }
      ],
      "source": [
        "# Вводятся номера телефонов в одну строчку через пробел с разными кодами\n",
        "# стран: +7, +6, +2, +4 И Т.Д\n",
        "# Необходимо составить словарь d где ключи это коды +7, +6, +2, +4 И Т.Д\n",
        "# а значения - список номеров (следующих в том же порядке, что и во входной строке) с соответствующими кодами\n",
        "# Полученный словарь, вывести командой:\n",
        "# print(*sorted(d.items()))\n",
        "\n",
        "# tel = '+71234567890 +71234567834 +61234567890 +51234567890 +21234567890 +21234567834 +71234567835'.split()\n",
        "# print(tel)\n",
        "# a = {}\n",
        "\n",
        "# for i in tel:\n",
        "#   key = i[:2]\n",
        "#   if key not in a:\n",
        "#     a[key] = [i]\n",
        "#   else:\n",
        "#     a[key] += [i]\n",
        "\n",
        "# print(a)\n",
        "# print(*sorted(a.items()))\n",
        "\n",
        "\n",
        "\n",
        "\n",
        "# Задача №25. Решение в группах\n",
        "# Напишите программу, которая принимает на вход\n",
        "# строку, и отслеживает, сколько раз каждый символ\n",
        "# уже встречался. Количество повторов добавляется к\n",
        "# символам с помощью постфикса формата _n.\n",
        "# Input: a a a b c a a d c d d\n",
        "# Output: a a_1 a_2 b c a_3 a_4 d c_1 d_1 d_2\n",
        "# Для решения данной задачи используйте функцию\n",
        "# .split()\n",
        "\n",
        "# n = 'a a a b c a a d c d d'\n",
        "# print(n)\n",
        "# s = []\n",
        "# counter = []\n",
        "# x=0\n",
        "\n",
        "# for i in n:\n",
        "#   if n.count(i) > 1 and i not in s:\n",
        "#     x+=1\n",
        "#     i = i+'_'+str(x)\n",
        "#     s.append(i)\n",
        "#   else:\n",
        "#     x=0\n",
        "#     s.append(i)\n",
        "# print(s)\n",
        "\n",
        "\n",
        "\n",
        "\n",
        "# Задача №27. Решение в группах\n",
        "# Пользователь вводит текст(строка). Словом считается\n",
        "# последовательность непробельных символов идущих\n",
        "# подряд, слова разделены одним или большим числом\n",
        "# пробелов. Определите, сколько различных слов\n",
        "# содержится в этом тексте.\n",
        "# Input: She sells sea shells on the sea shore The shells\n",
        "# that she sells are sea shells I'm sure.So if she sells sea\n",
        "# shells on the sea shore I'm sure that the shells are sea\n",
        "# shore shells\n",
        "# Output: 13\n",
        "\n",
        "# s = \"She sells sea shells on the sea shore The shells that she sells are sea shells I'm sure So if she sells sea shells on the sea shore I'm sure that the shells are sea shore shells\"\n",
        "# s = s.upper()\n",
        "# s = s.split()\n",
        "# print(s)\n",
        "# countr = []\n",
        "# for i in s:\n",
        "#   if i not in countr:\n",
        "#     countr.append(i)\n",
        "# print(countr)\n",
        "# print(len(countr))\n",
        "\n",
        "\n",
        "\n",
        "# Задача №29. Решение в группах\n",
        "# Ваня и Петя поспорили, кто быстрее решит\n",
        "# следующую задачу: “Задана последовательность\n",
        "# неотрицательных целых чисел. Требуется определить\n",
        "# значение наибольшего элемента\n",
        "# последовательности, которая завершается первым\n",
        "# встретившимся нулем (число 0 не входит в\n",
        "# последовательность)”. Однако 2 друга оказались не\n",
        "# такими смышлеными. Никто из ребят не смог до\n",
        "# конца сделать это задание. Они решили так: у кого\n",
        "# будет меньше ошибок в коде, тот и выиграл спор. За\n",
        "# помощью товарищи обратились к Вам, студентам.\n",
        "# Примечание: Программные коды на следующих\n",
        "# слайдах\n",
        "\n",
        "# Ваня:\n",
        "# n = int(input())\n",
        "# max_number = -1    # 1 ошибка\n",
        "# while n != 0:\n",
        "#  n = int(input())\n",
        "#  if n > max_number:\n",
        "#   max_number = n    # 2 ОШИБКА\n",
        "# print(max_number)\n",
        "\n",
        "# Петя:\n",
        "# n = int(input())\n",
        "# max_number = -1\n",
        "# while n < 0:  # 1 ошибка\n",
        "#  n = int(input())\n",
        "#  if max_number < n:\n",
        "#  n = max_number # 2 ошибка + 3 ошибка\n",
        "# print(n)    # 4 ошибка\n",
        "\n"
      ]
    }
  ]
}