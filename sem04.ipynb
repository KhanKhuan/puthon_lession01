{
  "nbformat": 4,
  "nbformat_minor": 0,
  "metadata": {
    "colab": {
      "provenance": [],
      "authorship_tag": "ABX9TyPzWYGUbkqhJvk+NvWzB6/U",
      "include_colab_link": true
    },
    "kernelspec": {
      "name": "python3",
      "display_name": "Python 3"
    },
    "language_info": {
      "name": "python"
    }
  },
  "cells": [
    {
      "cell_type": "markdown",
      "metadata": {
        "id": "view-in-github",
        "colab_type": "text"
      },
      "source": [
        "<a href=\"https://colab.research.google.com/github/KhanKhuan/puthon_lession01/blob/main/sem04.ipynb\" target=\"_parent\"><img src=\"https://colab.research.google.com/assets/colab-badge.svg\" alt=\"Open In Colab\"/></a>"
      ]
    },
    {
      "cell_type": "code",
      "execution_count": 14,
      "metadata": {
        "colab": {
          "base_uri": "https://localhost:8080/"
        },
        "id": "jWGwZbPProIJ",
        "outputId": "908c8dc9-8b90-43f8-e0fe-cf36470715bd"
      },
      "outputs": [
        {
          "output_type": "stream",
          "name": "stdout",
          "text": [
            "['+71234567890', '+71234567834', '+61234567890', '+51234567890', '+21234567890', '+21234567834', '+71234567835']\n",
            "{'+7': ['+71234567890', '+71234567834', '+71234567835'], '+6': ['+61234567890'], '+5': ['+51234567890'], '+2': ['+21234567890', '+21234567834']}\n",
            "('+2', ['+21234567890', '+21234567834']) ('+5', ['+51234567890']) ('+6', ['+61234567890']) ('+7', ['+71234567890', '+71234567834', '+71234567835'])\n"
          ]
        }
      ],
      "source": [
        "# Вводятся номера телефонов в одну строчку через пробел с разными кодами\n",
        "# стран: +7, +6, +2, +4 И Т.Д\n",
        "# Необходимо составить словарь d где ключи это коды +7, +6, +2, +4 И Т.Д\n",
        "# а значения - список номеров (следующих в том же порядке, что и во входной строке) с соответствующими кодами\n",
        "# Полученный словарь, вывести командой:\n",
        "# print(*sorted(d.items()))\n",
        "\n",
        "# tel = '+71234567890 +71234567834 +61234567890 +51234567890 +21234567890 +21234567834 +71234567835'.split()\n",
        "# print(tel)\n",
        "# a = {}\n",
        "\n",
        "# for i in tel:\n",
        "#   key = i[:2]\n",
        "#   if key not in a:\n",
        "#     a[key] = [i]\n",
        "#   else:\n",
        "#     a[key] += [i]\n",
        "\n",
        "# print(a)\n",
        "# print(*sorted(a.items()))"
      ]
    }
  ]
}