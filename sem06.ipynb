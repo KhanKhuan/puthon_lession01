{
  "nbformat": 4,
  "nbformat_minor": 0,
  "metadata": {
    "colab": {
      "provenance": [],
      "authorship_tag": "ABX9TyN09fSdaKIsEXcF0scUI9AQ",
      "include_colab_link": true
    },
    "kernelspec": {
      "name": "python3",
      "display_name": "Python 3"
    },
    "language_info": {
      "name": "python"
    }
  },
  "cells": [
    {
      "cell_type": "markdown",
      "metadata": {
        "id": "view-in-github",
        "colab_type": "text"
      },
      "source": [
        "<a href=\"https://colab.research.google.com/github/KhanKhuan/puthon_lession01/blob/main/sem06.ipynb\" target=\"_parent\"><img src=\"https://colab.research.google.com/assets/colab-badge.svg\" alt=\"Open In Colab\"/></a>"
      ]
    },
    {
      "cell_type": "code",
      "execution_count": 22,
      "metadata": {
        "id": "GbP_Hujn-PB7",
        "colab": {
          "base_uri": "https://localhost:8080/"
        },
        "outputId": "82277bb9-5b56-444b-fa89-24664f1288ec"
      },
      "outputs": [
        {
          "output_type": "stream",
          "name": "stdout",
          "text": [
            "300\n",
            "300 568\n",
            "27\n"
          ]
        }
      ],
      "source": [
        "#  определить является ли число простым или составным\n",
        "\n",
        "# def prost(a):\n",
        "#   cnt = 0\n",
        "#   if a == 1:\n",
        "#     print('ни составное, ни простое')\n",
        "#   else:\n",
        "#     for i in range(1, a):\n",
        "#       if a % i == 0:\n",
        "#         cnt += 1\n",
        "#     if cnt == 1:\n",
        "#       print('простое')\n",
        "#     else:\n",
        "#       print('составное')\n",
        "\n",
        "# prost(48)\n",
        "\n",
        "# рекурсией\n",
        "# def prost(a, del1=2):\n",
        "#   if a == 2 or del1*del1 > a:\n",
        "#     return print('prostoe chislo')\n",
        "#   elif a % del1 == 0:\n",
        "#     return print('sostavnoe')\n",
        "#   return prost(a, del1+1)\n",
        "\n",
        "# prost(48)\n",
        "\n",
        "\n",
        "\n",
        "# определить является ли слово палиндромом\n",
        "\n",
        "# def palind(n):\n",
        "#   if len(n) == 1:\n",
        "#     print('palindrome')\n",
        "#   elif n[0] == n[-1]:\n",
        "#     return palind(n[1:-1])\n",
        "#   else:\n",
        "#     return print('ne palindrome')\n",
        "\n",
        "# palind('12121')\n",
        "\n",
        "\n",
        "# Задача №45. Решение в группах\n",
        "# Два различных натуральных числа n и m называются\n",
        "# дружественными, если сумма делителей числа n\n",
        "# (включая 1, но исключая само n) равна числу m и\n",
        "# наоборот. Например, 220 и 284 – дружественные числа.\n",
        "# По данному числу k выведите все пары дружественных\n",
        "# чисел, каждое из которых не превосходит k. Программа\n",
        "# получает на вход одно натуральное число k, не\n",
        "# превосходящее 105\n",
        "# . Программа должна вывести все\n",
        "# пары дружественных чисел, каждое из которых не\n",
        "# превосходит k. Пары необходимо выводить по одной в\n",
        "# строке, разделяя пробелами. Каждая пара должна быть\n",
        "# выведена только один раз (перестановка чисел новую\n",
        "# пару не дает).\n",
        "# Ввод:  300\n",
        "# Вывод: 220 284\n",
        "\n",
        "# не знаю как решить\n",
        "# k = int(input())\n",
        "# sm = 0\n",
        "# sm2 = 0\n",
        "# for i in range(1, k):\n",
        "#   if k%i == 0:\n",
        "#     sm += i\n",
        "# print(k, sm)\n",
        "# del1 = 1\n",
        "# for a in range(1, k):\n",
        "#  for b in range(1, k):\n",
        "#   if a%b == 0:\n",
        "#     sm2 += b\n",
        "#     if sm2 == sm:\n",
        "#       print(a)\n",
        "\n",
        "\n",
        "\n",
        "\n",
        "\n",
        "\n",
        "\n",
        "\n"
      ]
    }
  ]
}