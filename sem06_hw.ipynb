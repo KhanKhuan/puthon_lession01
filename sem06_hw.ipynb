{
  "nbformat": 4,
  "nbformat_minor": 0,
  "metadata": {
    "colab": {
      "provenance": [],
      "authorship_tag": "ABX9TyOBR7Jv2nJnk4XV+VxmeoOl",
      "include_colab_link": true
    },
    "kernelspec": {
      "name": "python3",
      "display_name": "Python 3"
    },
    "language_info": {
      "name": "python"
    }
  },
  "cells": [
    {
      "cell_type": "markdown",
      "metadata": {
        "id": "view-in-github",
        "colab_type": "text"
      },
      "source": [
        "<a href=\"https://colab.research.google.com/github/KhanKhuan/puthon_lession01/blob/main/sem06_hw.ipynb\" target=\"_parent\"><img src=\"https://colab.research.google.com/assets/colab-badge.svg\" alt=\"Open In Colab\"/></a>"
      ]
    },
    {
      "cell_type": "code",
      "execution_count": 14,
      "metadata": {
        "colab": {
          "base_uri": "https://localhost:8080/"
        },
        "id": "v9yEAmdIiTSu",
        "outputId": "602884e2-e047-402e-8c84-ce5008d46c0e"
      },
      "outputs": [
        {
          "output_type": "stream",
          "name": "stdout",
          "text": [
            "-5, 9, 0, 3, -1, -2, 1, 4, -2, 10, 2, 0, -9, 8, 10, -9, 0, -5, -5, 7\n",
            "[1, 9, 13, 14, 19]\n"
          ]
        }
      ],
      "source": [
        "# Задача 30: Заполните массив элементами арифметической\n",
        "# прогрессии. Её первый элемент, разность и количество\n",
        "# элементов нужно ввести с клавиатуры. Формула для\n",
        "# получения n-го члена прогрессии: a n  = a1  + (n-1) * d.\n",
        "# Каждое число вводится с новой строки.\n",
        "# Ввод: 7 2 5\n",
        "# Вывод: 7 9 11 13 15\n",
        "\n",
        "# n = input().split()\n",
        "# list1 = []\n",
        "# for i in range(1, int(n[-1])+1):\n",
        "#   list1.append(int(n[0])+(i-1)*int(n[1]))\n",
        "# print(*list1)\n",
        "\n",
        "\n",
        "\n",
        "\n",
        "# Задача 32: Определить индексы элементов массива (списка),\n",
        "# значения которых принадлежат заданному диапазону (т.е. не\n",
        "# меньше заданного минимума и не больше заданного\n",
        "# максимума) от 5 до 15\n",
        "# Ввод: [-5, 9, 0, 3, -1, -2, 1, 4, -2, 10, 2, 0, -9, 8, 10, -9, 0, -5, -5, 7]\n",
        "# Вывод: [1, 9, 13, 14, 19]\n",
        "\n",
        "# n = input().split(', ')\n",
        "# list1 = []\n",
        "# for i in range(len(n)):\n",
        "#   if 15 >= int(n[i]) >= 5:\n",
        "#     list1.append(i)\n",
        "# print(list1)\n",
        "\n",
        "\n",
        "\n"
      ]
    }
  ]
}