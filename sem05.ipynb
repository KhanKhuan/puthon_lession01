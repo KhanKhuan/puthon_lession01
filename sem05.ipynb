{
  "nbformat": 4,
  "nbformat_minor": 0,
  "metadata": {
    "colab": {
      "provenance": [],
      "authorship_tag": "ABX9TyPP7YUApJxFpoZzPlUr5C9d",
      "include_colab_link": true
    },
    "kernelspec": {
      "name": "python3",
      "display_name": "Python 3"
    },
    "language_info": {
      "name": "python"
    }
  },
  "cells": [
    {
      "cell_type": "markdown",
      "metadata": {
        "id": "view-in-github",
        "colab_type": "text"
      },
      "source": [
        "<a href=\"https://colab.research.google.com/github/KhanKhuan/puthon_lession01/blob/main/sem05.ipynb\" target=\"_parent\"><img src=\"https://colab.research.google.com/assets/colab-badge.svg\" alt=\"Open In Colab\"/></a>"
      ]
    },
    {
      "cell_type": "code",
      "execution_count": 22,
      "metadata": {
        "colab": {
          "base_uri": "https://localhost:8080/"
        },
        "id": "1tg6eyJ3IAHW",
        "outputId": "976f6859-7eb6-4119-b2e1-54459c10a48f"
      },
      "outputs": [
        {
          "output_type": "stream",
          "name": "stdout",
          "text": [
            "[1, 2, 3, 3, 1, 1]\n"
          ]
        }
      ],
      "source": [
        "# # import module1\n",
        "\n",
        "# # print(module1.max1(5, 9))\n",
        "\n",
        "# вычисление факториала числа\n",
        "\n",
        "# def fact(n):\n",
        "#   f = 1\n",
        "#   if n == 0:\n",
        "#     return 1\n",
        "#   else:\n",
        "#     f = fact(n-1)*n\n",
        "#     return f\n",
        "\n",
        "# print(fact(7))\n",
        "\n",
        "\n",
        "\n",
        "\n",
        "\n",
        "# Задача №31. Решение в группах\n",
        "# Последовательностью Фибоначчи называется\n",
        "# последовательность чисел a0, a1, ..., an, ..., где\n",
        "# a0 = 0, a1 = 1, ak = ak-1 + ak-2 (k > 1).\n",
        "# Требуется найти N-е число Фибоначчи\n",
        "# Input: 7\n",
        "# Output: 21\n",
        "# Задание необходимо решать через рекурсию\n",
        "\n",
        "# def fib(n):\n",
        "#   if n <= 1:\n",
        "#     return n\n",
        "#   else:\n",
        "#     f = fib(n-1) + fib(n-2)\n",
        "#     return f\n",
        "\n",
        "# print(fib(7))\n",
        "\n",
        "\n",
        "\n",
        "\n",
        "# Задача №33. Решение в группах\n",
        "# Хакер Василий получил доступ к классному журналу и\n",
        "# хочет заменить все свои минимальные оценки на\n",
        "# максимальные. Напишите программу, которая\n",
        "# заменяет оценки Василия, но наоборот: все\n",
        "# максимальные – на минимальные.\n",
        "# Input: 5 -> 1 3 3 3 4\n",
        "# Output: 1 3 3 3 1\n",
        "\n",
        "# def rplc(list1=[]):\n",
        "#   mx = max(list1)\n",
        "#   mn = min(list1)\n",
        "#   list2 = []\n",
        "#   for i in list1:\n",
        "#     if i == mx:\n",
        "#       i = mn\n",
        "#       list2.append(i)\n",
        "#     else:\n",
        "#       list2.append(i)\n",
        "#   return list2\n",
        "\n",
        "# print(rplc([1, 2, 3, 3, 4, 4]))\n",
        "\n",
        "\n",
        "\n",
        "\n",
        "\n",
        "# Задача №35. Решение в группах\n",
        "# Напишите функцию, которая принимает одно число и\n",
        "# проверяет, является ли оно простым\n",
        "# Напоминание: Простое число - это число, которое\n",
        "# имеет 2 делителя: 1 и n(само число)\n",
        "# Input: 5\n",
        "# Output: yes\n",
        "\n",
        "# Задача №37. Решение в группах\n",
        "# 15 минут\n",
        "# Дано натуральное число N и\n",
        "# последовательность из N элементов.\n",
        "# Требуется вывести эту последовательность в\n",
        "# обратном порядке.\n",
        "# Примечание. В программе запрещается\n",
        "# объявлять массивы и использовать циклы\n",
        "# (даже для ввода и вывода).\n",
        "# Input: 2 -> 3 4\n",
        "# Output: 4 3\n",
        "\n"
      ]
    }
  ]
}