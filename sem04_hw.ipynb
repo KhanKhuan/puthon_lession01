{
  "nbformat": 4,
  "nbformat_minor": 0,
  "metadata": {
    "colab": {
      "provenance": [],
      "authorship_tag": "ABX9TyPbBOOs8t2FoKBSs07Us29e",
      "include_colab_link": true
    },
    "kernelspec": {
      "name": "python3",
      "display_name": "Python 3"
    },
    "language_info": {
      "name": "python"
    }
  },
  "cells": [
    {
      "cell_type": "markdown",
      "metadata": {
        "id": "view-in-github",
        "colab_type": "text"
      },
      "source": [
        "<a href=\"https://colab.research.google.com/github/KhanKhuan/puthon_lession01/blob/main/sem04_hw.ipynb\" target=\"_parent\"><img src=\"https://colab.research.google.com/assets/colab-badge.svg\" alt=\"Open In Colab\"/></a>"
      ]
    },
    {
      "cell_type": "code",
      "execution_count": 10,
      "metadata": {
        "colab": {
          "base_uri": "https://localhost:8080/"
        },
        "id": "UBYCSQ3MuyP4",
        "outputId": "f9f302c6-3bac-4cf4-9527-635b304fa6fa"
      },
      "outputs": [
        {
          "output_type": "stream",
          "name": "stdout",
          "text": [
            "10\n",
            "{0, 1, 2, 3, 4, 5, 6, 7, 8, 9}\n",
            "10\n",
            "[7, 9, 4, 4, 2, 9, 2, 8, 9, 3]\n",
            "2 3 4 7 8 9\n"
          ]
        }
      ],
      "source": [
        "# Задача 22: Даны два неупорядоченных набора целых чисел (может быть,\n",
        "# с повторениями). Выдать без повторений в порядке возрастания все те числа,\n",
        "# которые встречаются в обоих наборах.\n",
        "# Пользователь вводит 2 числа. n — кол-во элементов первого множества.\n",
        "#  m — кол-во элементов второго множества. Затем пользователь вводит сами элементы множеств.\n",
        "\n",
        "# import random\n",
        "\n",
        "# n = int(input())\n",
        "# list1 = [random.randint(0,10) for _ in range(n)]\n",
        "# print(list1)\n",
        "# m = int(input())\n",
        "# list2 = [random.randint(0,10) for _ in range(m)]\n",
        "# print(list2)\n",
        "\n",
        "# list01 = {}\n",
        "# list02 = {}\n",
        "\n",
        "# for i in list1:\n",
        "#   if i not in list01:\n",
        "#     list01[i] = [i]\n",
        "\n",
        "# for i in list2:\n",
        "#   if i not in list02:\n",
        "#     list02[i] = [i]\n",
        "\n",
        "# print(*sorted(list01))\n",
        "# print(*sorted(list02))\n",
        "\n",
        "# import random\n",
        "\n",
        "# set1 = set(i for i in range(int(input())))\n",
        "# print(set1)\n",
        "# set2 = list(random.randint(1, 10) for i in range(int(input())))\n",
        "# print(set2)\n",
        "\n",
        "# print(*sorted(set1.intersection(set2)))\n",
        "\n",
        "\n",
        "# Задача 24: В фермерском хозяйстве в Карелии выращивают чернику. Она растёт на круглой грядке, причём кусты высажены только по окружности.\n",
        "# Таким образом, у каждого куста есть ровно два соседних. Всего на грядке растёт N кустов.\n",
        "# Эти кусты обладают разной урожайностью, поэтому ко времени сбора на них выросло различное число ягод — на i-ом кусте выросло ai ягод.\n",
        "# В этом фермерском хозяйстве внедрена система автоматического сбора черники. Эта система состоит из управляющего модуля и нескольких\n",
        "# собирающих модулей. Собирающий модуль за один заход, находясь непосредственно перед некоторым кустом, собирает ягоды с этого куста и с двух соседних с ним.\n",
        "# Напишите программу для нахождения максимального числа ягод, которое может собрать за один заход собирающий модуль,\n",
        "# находясь перед некоторым кустом заданной во входном файле грядки.\n",
        "\n"
      ]
    }
  ]
}