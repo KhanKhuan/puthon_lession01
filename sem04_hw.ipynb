{
  "nbformat": 4,
  "nbformat_minor": 0,
  "metadata": {
    "colab": {
      "provenance": [],
      "authorship_tag": "ABX9TyPclla4TSl1AnI8XtTIKQlJ",
      "include_colab_link": true
    },
    "kernelspec": {
      "name": "python3",
      "display_name": "Python 3"
    },
    "language_info": {
      "name": "python"
    }
  },
  "cells": [
    {
      "cell_type": "markdown",
      "metadata": {
        "id": "view-in-github",
        "colab_type": "text"
      },
      "source": [
        "<a href=\"https://colab.research.google.com/github/KhanKhuan/puthon_lession01/blob/main/sem04_hw.ipynb\" target=\"_parent\"><img src=\"https://colab.research.google.com/assets/colab-badge.svg\" alt=\"Open In Colab\"/></a>"
      ]
    },
    {
      "cell_type": "code",
      "execution_count": null,
      "metadata": {
        "colab": {
          "base_uri": "https://localhost:8080/"
        },
        "id": "UBYCSQ3MuyP4",
        "outputId": "c96e3eaf-1992-49e5-c13b-30b22359292e"
      },
      "outputs": [
        {
          "output_type": "stream",
          "name": "stdout",
          "text": [
            "количество кустов: 10\n",
            "введите количество ягод на кусте: 1\n",
            "введите количество ягод на кусте: 2\n",
            "введите количество ягод на кусте: 3\n",
            "введите количество ягод на кусте: 4\n",
            "введите количество ягод на кусте: 5\n",
            "введите количество ягод на кусте: 6\n",
            "введите количество ягод на кусте: 7\n",
            "введите количество ягод на кусте: 8\n",
            "введите количество ягод на кусте: 9\n",
            "введите количество ягод на кусте: 10\n",
            "27\n"
          ]
        }
      ],
      "source": [
        "# Задача 22: Даны два неупорядоченных набора целых чисел (может быть,\n",
        "# с повторениями). Выдать без повторений в порядке возрастания все те числа,\n",
        "# которые встречаются в обоих наборах.\n",
        "# Пользователь вводит 2 числа. n — кол-во элементов первого множества.\n",
        "#  m — кол-во элементов второго множества. Затем пользователь вводит сами элементы множеств.\n",
        "\n",
        "# import random\n",
        "\n",
        "# n = int(input())\n",
        "# list1 = [random.randint(0,10) for _ in range(n)]\n",
        "# print(list1)\n",
        "# m = int(input())\n",
        "# list2 = [random.randint(0,10) for _ in range(m)]\n",
        "# print(list2)\n",
        "\n",
        "# list01 = {}\n",
        "# list02 = {}\n",
        "\n",
        "# for i in list1:\n",
        "#   if i not in list01:\n",
        "#     list01[i] = [i]\n",
        "\n",
        "# for i in list2:\n",
        "#   if i not in list02:\n",
        "#     list02[i] = [i]\n",
        "\n",
        "# print(*sorted(list01))\n",
        "# print(*sorted(list02))\n",
        "\n",
        "# import random\n",
        "\n",
        "# set1 = set(i for i in range(int(input())))\n",
        "# print(set1)\n",
        "# set2 = list(random.randint(1, 10) for i in range(int(input())))\n",
        "# print(set2)\n",
        "\n",
        "# print(*sorted(set1.intersection(set2)))\n",
        "\n",
        "\n",
        "# Задача 24: В фермерском хозяйстве в Карелии выращивают чернику. Она растёт на круглой грядке, причём кусты высажены только по окружности.\n",
        "# Таким образом, у каждого куста есть ровно два соседних. Всего на грядке растёт N кустов.\n",
        "# Эти кусты обладают разной урожайностью, поэтому ко времени сбора на них выросло различное число ягод — на i-ом кусте выросло ai ягод.\n",
        "# В этом фермерском хозяйстве внедрена система автоматического сбора черники. Эта система состоит из управляющего модуля и нескольких\n",
        "# собирающих модулей. Собирающий модуль за один заход, находясь непосредственно перед некоторым кустом, собирает ягоды с этого куста и с двух соседних с ним.\n",
        "# Напишите программу для нахождения максимального числа ягод, которое может собрать за один заход собирающий модуль,\n",
        "# находясь перед некоторым кустом заданной во входном файле грядки.\n",
        "\n",
        "# n = int(input('количество кустов: '))\n",
        "# sp = list()\n",
        "\n",
        "# for i in range(n):\n",
        "#   a = int(input('введите количество ягод на кусте: '))\n",
        "#   sp.append(a)\n",
        "\n",
        "# sp2 = list()\n",
        "\n",
        "# for i in range(len(sp)):\n",
        "#   sp2.append(sp[i]+sp[i-1]+sp[i-2])\n",
        "\n",
        "# print(max(sp2))\n"
      ]
    }
  ]
}