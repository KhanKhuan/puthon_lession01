{
  "nbformat": 4,
  "nbformat_minor": 0,
  "metadata": {
    "colab": {
      "provenance": [],
      "authorship_tag": "ABX9TyMIUYpS+hFCZAJpaWJrCp0d",
      "include_colab_link": true
    },
    "kernelspec": {
      "name": "python3",
      "display_name": "Python 3"
    },
    "language_info": {
      "name": "python"
    }
  },
  "cells": [
    {
      "cell_type": "markdown",
      "metadata": {
        "id": "view-in-github",
        "colab_type": "text"
      },
      "source": [
        "<a href=\"https://colab.research.google.com/github/KhanKhuan/puthon_lession01/blob/main/sem02_hw.ipynb\" target=\"_parent\"><img src=\"https://colab.research.google.com/assets/colab-badge.svg\" alt=\"Open In Colab\"/></a>"
      ]
    },
    {
      "cell_type": "code",
      "execution_count": 11,
      "metadata": {
        "colab": {
          "base_uri": "https://localhost:8080/"
        },
        "id": "Km7wa50StqiK",
        "outputId": "c3b1d705-ad1c-4ee9-cabb-004b2929d9d2"
      },
      "outputs": [
        {
          "output_type": "stream",
          "name": "stdout",
          "text": [
            "Введите число N: 10\n",
            "1\n",
            "2\n",
            "4\n",
            "8\n"
          ]
        }
      ],
      "source": [
        "# Задача 10: На столе лежат n монеток. Некоторые из них лежат вверх\n",
        "# решкой, а некоторые – гербом. Определите минимальное число\n",
        "# монеток, которые нужно перевернуть, чтобы все монетки были\n",
        "# повернуты вверх одной и той же стороной. Выведите минимальное\n",
        "# количество монет, которые нужно перевернуть.\n",
        "# 5 -> 1 0 1 1 0\n",
        "# 2\n",
        "\n",
        "# import random\n",
        "\n",
        "# coins = int(input('Сколько монеток на столе? '))\n",
        "# i = 0\n",
        "# orel = 0\n",
        "# resh = 0\n",
        "# while i < coins:\n",
        "#   coin = random.randint(0,1)\n",
        "#   i += 1\n",
        "#   if coin == 0:\n",
        "#     print('орел')\n",
        "#     orel += 1\n",
        "#   else:\n",
        "#     print('решка')\n",
        "#     resh += 1\n",
        "# if orel > resh:\n",
        "#   print(f'переверни {resh} монет(ки) чтобы все были одинаковыми')\n",
        "# else:\n",
        "#   print(f'переверни {orel} монет(ки) чтобы все были одинаковыми')\n",
        "\n",
        "\n",
        "\n",
        "\n",
        "# Задача 12: Петя и Катя – брат и сестра. Петя – студент, а Катя –\n",
        "# школьница. Петя помогает Кате по математике. Он задумывает два\n",
        "# натуральных числа X и Y (X,Y≤1000), а Катя должна их отгадать. Для\n",
        "# этого Петя делает две подсказки. Он называет сумму этих чисел S и их\n",
        "# произведение P. Помогите Кате отгадать задуманные Петей числа.\n",
        "# 4 4 -> 2 2\n",
        "# 5 6 -> 2 3\n",
        "\n",
        "\n",
        "# s = int(input('загадайте два натуральных числа до 1000, введите их сумму: '))\n",
        "# pr = int(input('а теперь введите их произведение: '))\n",
        "\n",
        "# x = (s-int((s**2-4*pr)**0.5))//2\n",
        "# y = s - x\n",
        "\n",
        "# print(f'ты загадал {x} и {y}')\n",
        "\n",
        "\n",
        "\n",
        "# Задача 14: Требуется вывести все целые степени двойки (т.е. числа\n",
        "# # вида 2k ), не превосходящие числа N.\n",
        "\n",
        "# n = int(input('Введите число N: '))\n",
        "# i = 0\n",
        "# sq = 1\n",
        "# while sq < n:\n",
        "#   print(sq)\n",
        "#   sq = 2*sq\n",
        "\n",
        ""
      ]
    }
  ]
}