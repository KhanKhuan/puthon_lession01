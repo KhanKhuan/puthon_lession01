{
  "nbformat": 4,
  "nbformat_minor": 0,
  "metadata": {
    "colab": {
      "provenance": [],
      "authorship_tag": "ABX9TyNoh5RqVw4P9E4vapH3ATVY",
      "include_colab_link": true
    },
    "kernelspec": {
      "name": "python3",
      "display_name": "Python 3"
    },
    "language_info": {
      "name": "python"
    }
  },
  "cells": [
    {
      "cell_type": "markdown",
      "metadata": {
        "id": "view-in-github",
        "colab_type": "text"
      },
      "source": [
        "<a href=\"https://colab.research.google.com/github/KhanKhuan/puthon_lession01/blob/main/sem01.ipynb\" target=\"_parent\"><img src=\"https://colab.research.google.com/assets/colab-badge.svg\" alt=\"Open In Colab\"/></a>"
      ]
    },
    {
      "cell_type": "code",
      "execution_count": 23,
      "metadata": {
        "colab": {
          "base_uri": "https://localhost:8080/"
        },
        "id": "2oV3XfrdKYt0",
        "outputId": "ddf44641-5e31-4864-9b77-8b49e281b952"
      },
      "outputs": [
        {
          "output_type": "stream",
          "name": "stdout",
          "text": [
            "Сколько километров проезжает машина за день: 700\n",
            "Сколько километров маршрут: 2101\n",
            "4\n"
          ]
        }
      ],
      "source": [
        "# ввести два числа и определить какое больше\n",
        "\n",
        "#a = int(input('введите первое число = '))\n",
        "#b = int(input('введите второе число = '))\n",
        "\n",
        "#if a >= b:\n",
        "#  print(a)\n",
        "#else:\n",
        "#  print(b)\n",
        "\n",
        "#Задача №1. Решение в группах\n",
        "#Семинар 1. Ввод-вывод, операторы ветвления\n",
        "#За день машина проезжает n километров. Сколько\n",
        "#дней нужно, чтобы проехать маршрут длиной m\n",
        "#километров? При решении этой задачи нельзя\n",
        "#пользоваться условной инструкцией if и циклами.\n",
        "#Input:\n",
        "#n = 700\n",
        "#m = 750\n",
        "#Output:\n",
        "#2\n",
        "\n",
        "# n = int(input('Сколько километров проезжает машина за день: '))\n",
        "# m = int(input('Сколько километров маршрут: '))\n",
        "# print([m//n, m//n+1][m%n!=0])\n"
      ]
    }
  ]
}