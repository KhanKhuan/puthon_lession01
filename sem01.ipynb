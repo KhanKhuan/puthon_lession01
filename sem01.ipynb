{
  "nbformat": 4,
  "nbformat_minor": 0,
  "metadata": {
    "colab": {
      "provenance": [],
      "authorship_tag": "ABX9TyPIJ2edeP07zTIA6ewOns2v",
      "include_colab_link": true
    },
    "kernelspec": {
      "name": "python3",
      "display_name": "Python 3"
    },
    "language_info": {
      "name": "python"
    }
  },
  "cells": [
    {
      "cell_type": "markdown",
      "metadata": {
        "id": "view-in-github",
        "colab_type": "text"
      },
      "source": [
        "<a href=\"https://colab.research.google.com/github/KhanKhuan/puthon_lession01/blob/main/sem01.ipynb\" target=\"_parent\"><img src=\"https://colab.research.google.com/assets/colab-badge.svg\" alt=\"Open In Colab\"/></a>"
      ]
    },
    {
      "cell_type": "code",
      "execution_count": 4,
      "metadata": {
        "colab": {
          "base_uri": "https://localhost:8080/"
        },
        "id": "2oV3XfrdKYt0",
        "outputId": "1de85c74-efff-4c26-9537-45b1fbc17567"
      },
      "outputs": [
        {
          "output_type": "stream",
          "name": "stdout",
          "text": [
            "введите первое число = 5\n",
            "введите второе число = 8\n",
            "8\n"
          ]
        }
      ],
      "source": [
        "# ввести два числа и определить какое больше\n",
        "\n",
        "a = int(input('введите первое число = '))\n",
        "b = int(input('введите второе число = '))\n",
        "\n",
        "if a>b:\n",
        "  print(a)\n",
        "else:\n",
        "  print(b)\n",
        "\n",
        "  print('проверка гита')"
      ]
    }
  ]
}