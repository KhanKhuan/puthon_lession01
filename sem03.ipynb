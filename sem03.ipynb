{
  "nbformat": 4,
  "nbformat_minor": 0,
  "metadata": {
    "colab": {
      "provenance": [],
      "authorship_tag": "ABX9TyMpKKKpKksBP3xHGnbRjHqg",
      "include_colab_link": true
    },
    "kernelspec": {
      "name": "python3",
      "display_name": "Python 3"
    },
    "language_info": {
      "name": "python"
    }
  },
  "cells": [
    {
      "cell_type": "markdown",
      "metadata": {
        "id": "view-in-github",
        "colab_type": "text"
      },
      "source": [
        "<a href=\"https://colab.research.google.com/github/KhanKhuan/puthon_lession01/blob/main/sem03.ipynb\" target=\"_parent\"><img src=\"https://colab.research.google.com/assets/colab-badge.svg\" alt=\"Open In Colab\"/></a>"
      ]
    },
    {
      "cell_type": "code",
      "execution_count": null,
      "metadata": {
        "colab": {
          "base_uri": "https://localhost:8080/"
        },
        "id": "JLZGYBv5AIml",
        "outputId": "0668b6bd-58d2-42b2-c195-fcdda2f685dd"
      },
      "outputs": [
        {
          "output_type": "stream",
          "name": "stdout",
          "text": [
            "2\n"
          ]
        }
      ],
      "source": [
        "# Задача №17. Решение в группах\n",
        "# Дан список чисел. Определите, сколько в нем\n",
        "# встречается различных чисел.\n",
        "# Input: [1, 1, 2, 0, -1, 3, 4, 4]\n",
        "# Output: 6\n",
        "# Примечание: Пользователь может вводить значения\n",
        "# списка или список задан изначально.\n",
        "\n",
        "# list_1 = input('Введите числа через пробел').split()\n",
        "# list_2 = []\n",
        "# print(list_1)\n",
        "\n",
        "# for i in list_1:\n",
        "#   if i not in list_2:\n",
        "#     list_2.append(i)\n",
        "# print(list_2)\n",
        "# print(len(list_2))\n",
        "\n",
        "\n",
        "\n",
        "\n",
        "\n",
        "# Задача №19. Решение в группах\n",
        "# Дана последовательность из N целых чисел и число\n",
        "# K. Необходимо сдвинуть всю последовательность\n",
        "# (сдвиг - циклический) на K элементов вправо, K –\n",
        "# положительное число.\n",
        "# Input: [1, 2, 3, 4, 5] k = 3\n",
        "# Output: [4, 5, 1, 2, 3]\n",
        "# Примечание: Пользователь может вводить значения\n",
        "# списка или список задан изначально.\n",
        "\n",
        "# list_1 = [1, 2, 3, 4, 5]\n",
        "# k = int(input('введите k '))\n",
        "# print(list_1[k:]+list_1[:k])\n",
        "\n",
        "\n",
        "\n",
        "\n",
        "# Задача №21. Решение в группах\n",
        "# Напишите программу для печати всех уникальных\n",
        "# значений в словаре.\n",
        "# Input: [{\"V\": \"S001\"}, {\"V\": \"S002\"}, {\"VI\": \"S001\"},\n",
        "# {\"VI\": \"S005\"}, {\"VII\": \" S005 \"}, {\" V \":\" S009 \"}, {\" VIII\n",
        "# \":\" S007 \"}]\n",
        "# Output: {'S005', 'S002', 'S007', 'S001', 'S009'}\n",
        "# Примечание: Список словарей задан изначально.\n",
        "# Пользователь его не вводит\n",
        "\n",
        "# d = [{\"V\": \"S001\"}, {\"V\": \"S002\"}, {\"VI\": \"S001\"}, {\"VI\": \"S005\"}, {\"VII\": \"S005\"}, {\" V \":\" S009 \"}, {\" VIII \":\" S007 \"}]\n",
        "# print(d)\n",
        "# list_1 = []\n",
        "# for i in d:\n",
        "#   for j in i:\n",
        "#     if i[j] not in list_1:\n",
        "#       list_1.append(i[j])\n",
        "# print(list_1)\n",
        "\n",
        "\n",
        "# Задача №23. Решение в группах\n",
        "# Дан массив, состоящий из целых чисел. Напишите\n",
        "# программу, которая подсчитает количество\n",
        "# элементов массива, больших предыдущего (элемента\n",
        "# с предыдущим номером)\n",
        "# Input: [0, -1, 5, 2, 3]\n",
        "# Output: 2 (-1 < 5, 2 < 3)\n",
        "# Примечание: Пользователь может вводить значения\n",
        "# списка или список задан изначально.\n",
        "\n",
        "# list_1 = [0, -1, 5, 2, 3]\n",
        "# num = 0\n",
        "# count = 1\n",
        "# for i in list_1:\n",
        "#   if i > num:\n",
        "#     count += 1\n",
        "#     num = i\n",
        "# print(count)"
      ]
    }
  ]
}