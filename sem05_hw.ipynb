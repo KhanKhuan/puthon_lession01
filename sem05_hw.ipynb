{
  "nbformat": 4,
  "nbformat_minor": 0,
  "metadata": {
    "colab": {
      "provenance": [],
      "authorship_tag": "ABX9TyPOKN4KWZSCmrunQKQwmZxn",
      "include_colab_link": true
    },
    "kernelspec": {
      "name": "python3",
      "display_name": "Python 3"
    },
    "language_info": {
      "name": "python"
    }
  },
  "cells": [
    {
      "cell_type": "markdown",
      "metadata": {
        "id": "view-in-github",
        "colab_type": "text"
      },
      "source": [
        "<a href=\"https://colab.research.google.com/github/KhanKhuan/puthon_lession01/blob/main/sem05_hw.ipynb\" target=\"_parent\"><img src=\"https://colab.research.google.com/assets/colab-badge.svg\" alt=\"Open In Colab\"/></a>"
      ]
    },
    {
      "cell_type": "code",
      "execution_count": 1,
      "metadata": {
        "colab": {
          "base_uri": "https://localhost:8080/"
        },
        "id": "HHFXLainquhA",
        "outputId": "c3b9a5d2-21a1-40e5-dc3a-aadf97566832"
      },
      "outputs": [
        {
          "output_type": "stream",
          "name": "stdout",
          "text": [
            "09\n"
          ]
        }
      ],
      "source": [
        "# Напишите функцию f, которая на вход принимает два числа a и b,\n",
        "# и возводит число a в целую степень b с помощью рекурсии.\n",
        "\n",
        "# Функция не должна ничего выводить, только возвращать значение.\n",
        "\n",
        "# Пример:\n",
        "\n",
        "\n",
        "# a = 3; b = 5 -> 243 (3⁵)\n",
        "# a = 2; b = 3 -> 8\n",
        "\n",
        "# def qtr(a, b):\n",
        "#   qtr_res = 1\n",
        "#   for i in range(b):\n",
        "#     qtr_res *= a\n",
        "#   return qtr_res\n",
        "\n",
        "# print(qtr(2, 3))\n",
        "\n",
        "\n",
        "\n",
        "# Напишите рекурсивную функцию sum(a, b), возвращающую сумму двух целых\n",
        "# неотрицательных чисел. Из всех арифметических операций допускаются\n",
        "# только +1 и -1. Также нельзя использовать циклы.\n",
        "\n",
        "# Функция не должна ничего выводить, только возвращать значение.\n",
        "\n",
        "# Пример:\n",
        "# sum(2, 2)\n",
        "# # 4\n",
        "\n",
        "# def f(a, b):\n",
        "#   if b == 0:\n",
        "#     return a\n",
        "#   elif a == 0:\n",
        "#     return b\n",
        "#   return f(a+1, b-1)\n",
        "\n",
        "# print(f(3, 2))\n",
        "\n"
      ]
    }
  ]
}